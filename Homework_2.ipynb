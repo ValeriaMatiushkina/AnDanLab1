{
 "cells": [
  {
   "cell_type": "markdown",
   "metadata": {
    "toc": true
   },
   "source": [
    "<h1>Table of Contents<span class=\"tocSkip\"></span></h1>\n",
    "<div class=\"toc\"><ul class=\"toc-item\"><li><span><a href=\"#-Homework-2-(Topics-5-7:-Groupby,-Merge,-Visualization)\" data-toc-modified-id=\"-Homework-2-(Topics-5-7:-Groupby,-Merge,-Visualization)-1\"><span class=\"toc-item-num\">1&nbsp;&nbsp;</span><center> Homework 2 (Topics 5-7: Groupby, Merge, Visualization)</center></a></span><ul class=\"toc-item\"><li><ul class=\"toc-item\"><li><ul class=\"toc-item\"><li><span><a href=\"#Task-0.\" data-toc-modified-id=\"Task-0.-1.0.0.1\"><span class=\"toc-item-num\">1.0.0.1&nbsp;&nbsp;</span>Task 0.</a></span></li><li><span><a href=\"#Task-1.\" data-toc-modified-id=\"Task-1.-1.0.0.2\"><span class=\"toc-item-num\">1.0.0.2&nbsp;&nbsp;</span>Task 1.</a></span></li><li><span><a href=\"#Task-2:\" data-toc-modified-id=\"Task-2:-1.0.0.3\"><span class=\"toc-item-num\">1.0.0.3&nbsp;&nbsp;</span>Task 2:</a></span></li><li><span><a href=\"#Task-3:\" data-toc-modified-id=\"Task-3:-1.0.0.4\"><span class=\"toc-item-num\">1.0.0.4&nbsp;&nbsp;</span>Task 3:</a></span></li><li><span><a href=\"#Task-4:\" data-toc-modified-id=\"Task-4:-1.0.0.5\"><span class=\"toc-item-num\">1.0.0.5&nbsp;&nbsp;</span>Task 4:</a></span></li><li><span><a href=\"#Task-5:\" data-toc-modified-id=\"Task-5:-1.0.0.6\"><span class=\"toc-item-num\">1.0.0.6&nbsp;&nbsp;</span>Task 5:</a></span></li><li><span><a href=\"#Вопросы:\" data-toc-modified-id=\"Вопросы:-1.0.0.7\"><span class=\"toc-item-num\">1.0.0.7&nbsp;&nbsp;</span>Вопросы:</a></span></li><li><span><a href=\"#Task-6:\" data-toc-modified-id=\"Task-6:-1.0.0.8\"><span class=\"toc-item-num\">1.0.0.8&nbsp;&nbsp;</span>Task 6:</a></span></li><li><span><a href=\"#Вопросы:\" data-toc-modified-id=\"Вопросы:-1.0.0.9\"><span class=\"toc-item-num\">1.0.0.9&nbsp;&nbsp;</span>Вопросы:</a></span></li></ul></li></ul></li></ul></li></ul></div>"
   ]
  },
  {
   "cell_type": "markdown",
   "metadata": {},
   "source": [
    "# <center> Homework 2 (Topics 5-7: Groupby, Merge, Visualization)"
   ]
  },
  {
   "cell_type": "code",
   "execution_count": 15,
   "metadata": {
    "ExecuteTime": {
     "end_time": "2020-04-23T10:26:06.303166Z",
     "start_time": "2020-04-23T10:26:05.458848Z"
    }
   },
   "outputs": [],
   "source": [
    "import pandas as pd\n",
    "import numpy as np\n",
    "\n",
    "import matplotlib.pyplot as plt\n",
    "import seaborn as sns\n",
    "%matplotlib inline\n",
    "import tqdm"
   ]
  },
  {
   "cell_type": "markdown",
   "metadata": {},
   "source": [
    "Ещё раз (как и в задании 1) считайте в переменные tr_mcc_codes, tr_types, transactions и customers_gender_train. В transactions опять считайте только первые 1000000 строк."
   ]
  },
  {
   "cell_type": "code",
   "execution_count": 2,
   "metadata": {
    "ExecuteTime": {
     "end_time": "2020-04-23T10:26:18.234475Z",
     "start_time": "2020-04-23T10:26:18.232003Z"
    }
   },
   "outputs": [],
   "source": [
    "### Type your code here\n",
    "\n",
    "tr_mcc_codes = pd.read_csv('/Users/valeria/Downloads/Telegram Desktop/transact/tr_mcc_codes.csv', sep=';')\n",
    "\n",
    "tr_types = pd.read_csv('/Users/valeria/Downloads/Telegram Desktop/transact/tr_types.csv', sep=';')\n",
    "\n",
    "transactions = pd.read_csv('/Users/valeria/Downloads/Telegram Desktop/transact/transactions.csv', sep=',')\n",
    "\n",
    "gender_train = pd.read_csv('/Users/valeria/Downloads/Telegram Desktop/transact/gender_train.csv', sep=';')"
   ]
  },
  {
   "cell_type": "markdown",
   "metadata": {},
   "source": [
    "#### Task 0.\n",
    "Соедините transactions с всеми остальными таблицами (tr_mcc_codes, tr_types, gender_train). Причём с customers_gender_train необходимо смёрджиться с помощью left join, а с оставшимися датафреймами - через inner.\n",
    "После получения результата таблицы gender_train, tr_types, tr_mcc_codes можно удалить. В результате соединения датафреймов должно получиться 999584 строки."
   ]
  },
  {
   "cell_type": "markdown",
   "metadata": {},
   "source": [
    "Сначала для корректного соединения таблиц нужно определить названия столбцв для соединения. Для этого используем метод columns. Он позволяет получить названия столбцов. Для соединения нужно чтобы они совпадали в основной и присоединяемой таблице."
   ]
  },
  {
   "cell_type": "code",
   "execution_count": 3,
   "metadata": {},
   "outputs": [
    {
     "name": "stdout",
     "output_type": "stream",
     "text": [
      "gender_train  Index(['customer_id', 'gender'], dtype='object')\n",
      "tr_types  Index(['tr_type', 'tr_description'], dtype='object')\n",
      "tr_mcc_codes  Index(['mcc_code', 'mcc_description'], dtype='object')\n",
      "transactions Index(['customer_id', 'tr_datetime', 'mcc_code', 'tr_type', 'amount',\n",
      "       'term_id'],\n",
      "      dtype='object')\n"
     ]
    }
   ],
   "source": [
    "# Проверка названий столбцов\n",
    "print(\"gender_train \", gender_train.columns)\n",
    "print(\"tr_types \", tr_types.columns)\n",
    "print(\"tr_mcc_codes \", tr_mcc_codes.columns)\n",
    "print(\"transactions\", transactions.columns)\n"
   ]
  },
  {
   "cell_type": "markdown",
   "metadata": {},
   "source": [
    "Получив названия столбцов можно определить порядок соединения. Первыми соединяются transactions и gender_train по столбцу customer_id, с помошью левого соединения (how='left'). Для проведения операций соединения датафреймов используется библиотека pandas. Далее соединяю merged_data (результирующая таблица) и tr_mcc_codes по столбцу mcc_code и merged_data с tr_types по столбцу tr_type."
   ]
  },
  {
   "cell_type": "code",
   "execution_count": 9,
   "metadata": {
    "ExecuteTime": {
     "end_time": "2020-04-23T10:26:27.618399Z",
     "start_time": "2020-04-23T10:26:27.615930Z"
    }
   },
   "outputs": [
    {
     "name": "stdout",
     "output_type": "stream",
     "text": [
      "(6846580, 9)\n"
     ]
    }
   ],
   "source": [
    "### Type your code here\n",
    "# Преобразование типа данных столбца 'customer_id' в DataFrame transactions\n",
    "transactions['customer_id'] = transactions['customer_id'].astype(str)\n",
    "\n",
    "# Затем объединяем\n",
    "merged_data = pd.merge(transactions, gender_train, how='left', on='customer_id')\n",
    "merged_data = pd.merge(merged_data, tr_mcc_codes, how='inner', on='mcc_code')\n",
    "merged_data = pd.merge(merged_data, tr_types, how='inner', on='tr_type')\n",
    "\n",
    "# Проверка размера итоговой таблицы\n",
    "print(merged_data.shape)"
   ]
  },
  {
   "cell_type": "markdown",
   "metadata": {},
   "source": [
    "#### Task 1.\n",
    "1. Определите модуль разницы между средними тратами женщин и мужчин (трата - отрицательное значение amount). (*)\n",
    "\n",
    "Выведите ответ в виде вещественного числа, округлённого до двух знаков после запятой, отделив дробную часть точкой в формате \"123.45\"\n",
    "\n",
    "##### Пояснения:\n",
    "(\\*) Если в результате для мужчин получились значения [-1,-3,-5], а для женщин [-1,-2,-3],  \n",
    "то модуль разницы между средними арифметическими -3 и -2 будет равен 1.\n",
    "\n",
    "(\\**) Обратите внимание, что для вычисления модуля разности точных знаний о том,  \n",
    "какой класc относится к мужчинам, а какой - к женщинам, пока не требуется.\n",
    "\n",
    "(\\***) Округление не нужно производить отдельно по средним тратам женщин и мужчин, а только в самом конце, когда получите значение модуля разницы трат."
   ]
  },
  {
   "cell_type": "markdown",
   "metadata": {},
   "source": [
    "Вначале производим фильтрацию данных в полученной ранее общей таблице. Для проведения вычислений нам нужны только негативные данные по столбцу amount. Полученные данный записываем в negative_transactions.\n",
    "Далее из этого массива данных получаем еще два. Точнее с женщинами (где gender принимает значение F, то есть female) и с мужчинами (значение M, то есть man). \n",
    "Далее находим среднее значение по этим двум таблицам (с помошью функции .mean())\n",
    "Находим разницу этих средних значений\n",
    "С помощью функции abs() находим модуль полученного числа\n",
    "С помощью функции round производим округление числа до 2 знаков после запятой"
   ]
  },
  {
   "cell_type": "code",
   "execution_count": 10,
   "metadata": {
    "ExecuteTime": {
     "end_time": "2020-04-23T10:35:27.760136Z",
     "start_time": "2020-04-23T10:35:27.757599Z"
    }
   },
   "outputs": [
    {
     "name": "stdout",
     "output_type": "stream",
     "text": [
      "nan\n"
     ]
    }
   ],
   "source": [
    "### Type your code here\n",
    "# Отфильтровать данные так, чтобы учесть только отрицательные значения amount\n",
    "negative_transactions = merged_data[merged_data['amount'] < 0]\n",
    "\n",
    "# Разделить отфильтрованные данные на две группы: женщины и мужчины\n",
    "women_transactions = negative_transactions[negative_transactions['gender'] == 'F']\n",
    "men_transactions = negative_transactions[negative_transactions['gender'] == 'M']\n",
    "\n",
    "# Вычислить средние траты для каждой группы\n",
    "avg_women_expenses = women_transactions['amount'].mean()\n",
    "avg_men_expenses = men_transactions['amount'].mean()\n",
    "\n",
    "# Найти разницу между средними тратами\n",
    "difference = avg_women_expenses - avg_men_expenses\n",
    "\n",
    "# Модуль разницы\n",
    "abs_difference = abs(difference)\n",
    "\n",
    "# Округление до двух знаков после запятой\n",
    "rounded_difference = round(abs_difference, 2)\n",
    "\n",
    "print(rounded_difference)"
   ]
  },
  {
   "cell_type": "markdown",
   "metadata": {},
   "source": [
    "#### Task 2:\n",
    "1. Создайте новый столбец - mcc_code+tr_type, сконкатенировав значения из соответствующих столбцов. (\\*)\n",
    "2. Оставьте только наблюдения с отрицательным значением amount. Посчитайте дисперсию по категориям получившегося столбца mcc_code+tr_type, в которых количество наблюдений >= 10. \n",
    "3. Определите отношение максимальной дисперсии к минимальной.\n",
    "\n",
    "Выведите ответ в виде вещественного числа, округлённого до ближайшего целого в формате \"123456\" без дробной части.\n",
    "\n",
    "##### Пояснения:\n",
    "(\\*) Для конкатенации значений в столбцах можно использовать метод .astype(str) для серии и складывать соответствующие серии. Либо же применять apply к строкам датафрейма, прописывая логику преобразования и конкатенации значений внутри.\n",
    "\n",
    "(\\**) Для одновременного подсчета количества наблюдений и дисперсии по категориям можно воспользоваться функцией .agg()"
   ]
  },
  {
   "cell_type": "markdown",
   "metadata": {},
   "source": [
    "Вначале создаем новый столбец \"mcc_code+tr_type\" путем соединения значений из двух соответствующих столбцов. Для того чтобы это сделать применяем метод astype(str), который приводит поля к одному типу (строка), чтобы объединения не вызывало ошибок\n",
    "Далее снова отбираем только отрицательные значения столбца amount\n",
    "Вычисляем дисперсию на основе полученных данных. для этого используем:\n",
    "\n",
    "1. groupby('mcc_code+tr_type'): Этот метод группирует данные по уникальным значениям столбцов 'mcc_code' и 'tr_type'. Он создает группы данных, где каждая группа содержит строки, у которых значения в указанных столбцах совпадают.\n",
    "\n",
    "2. ['amount']: Этот оператор выбирает столбец с названием 'amount' из группированного объекта. В данном случае, это столбец, содержащий суммы транзакций.\n",
    "\n",
    "3. agg(['var', 'size']): Этот метод агрегирует данные внутри каждой группы, применяя указанные агрегирующие функции. В данном случае, используются функции var (дисперсия) и size (количество элементов). Результатом будет новый DataFrame с двумя столбцами: 'var' и 'size'.\n",
    "\n",
    "4. query('size >= 10'): Этот метод фильтрует строки в DataFrame, оставляя только те, для которых условие 'size >= 10' истинно. То есть, оставляются только группы данных, содержащие 10 или более элементов.\n",
    "\n",
    "Последнее действие - найти отношение максимума к минимуму дисперсии."
   ]
  },
  {
   "cell_type": "code",
   "execution_count": 11,
   "metadata": {
    "ExecuteTime": {
     "end_time": "2020-04-23T10:35:39.478241Z",
     "start_time": "2020-04-23T10:35:39.475846Z"
    }
   },
   "outputs": [
    {
     "name": "stdout",
     "output_type": "stream",
     "text": [
      "73763880\n"
     ]
    }
   ],
   "source": [
    "### Type your code here\n",
    "# 1. Создание нового столбца - mcc_code+tr_type, сконкатенировав значения из соответствующих столбцов\n",
    "merged_data['mcc_code+tr_type'] = merged_data['mcc_code'].astype(str) + merged_data['tr_type'].astype(str)\n",
    "\n",
    "# 2. Оставление только наблюдений с отрицательным значением amount\n",
    "negative_amount = merged_data[merged_data['amount'] < 0]\n",
    "\n",
    "# 3. Вычисление дисперсии по категориям mcc_code+tr_type, в которых количество наблюдений >= 10, и определение отношения максимальной дисперсии к минимальной\n",
    "result = negative_amount.groupby('mcc_code+tr_type')['amount'].agg(['var', 'size']).query('size >= 10')\n",
    "\n",
    "# Подсчет отношения максимальной дисперсии к минимальной\n",
    "ratio = result['var'].max() / result['var'].min()\n",
    "\n",
    "# Вывод ответа\n",
    "print(round(ratio))  # округление до ближайшего целого числа"
   ]
  },
  {
   "cell_type": "markdown",
   "metadata": {},
   "source": [
    "#### Task 3:\n",
    "1. По всем типам транзакций рассчитайте максимальную сумму прихода на карту (из строго положительных сумм по столбцу amount) отдельно для мужчин и женщин (назовите ее \"max_income\"). Оставьте по 5 транзакций для мужчин и для женщин, наименьших среди всех транзакций по полученным значениям \"max_income\". (\\*)\n",
    "2. Выделите среди них те, которые встречаются одновременно и у мужчин, и у женщин:\n",
    "    - 1) Покупка. POS ТУ СБ РФ\t\n",
    "    - 2) Списание после проведения претензионной работы\t\n",
    "    - 3) Плата за получение наличных. Россия\t\n",
    "    - 4) Перевод на карту/ с карты через АТМ (со взиманием комиссии с отправителя) по счету в овердрафте\t\n",
    "    - 5) Плата за получение наличных в АТМ. Россия\t \n",
    "    - 6) Наличные. Зарубеж. банк\t\n",
    "    - 7) Возврат покупки. POS ТУ Россия\n",
    "\n",
    "##### Пояснения:\n",
    "(\\*) Если максимальные суммы приходов по каким-то типам были равны [1,2,3,4,5,6,7,8], то 5 минимальных из них: [1,2,3,4,5]"
   ]
  },
  {
   "cell_type": "markdown",
   "metadata": {},
   "source": [
    "Чтобы рассчитать максимальную сумму прихода на карту для мужчин и женщин отдельно, нужно отфильтровать транзакции с положительными суммами в столбце \"amount\". \n",
    "\n",
    "Затем сгруппировать данные по полу (gender) и типу транзакции (tr_description), чтобы найти максимальный приход (['amount'].max()) для каждой группы. \n",
    "\n",
    "Для дальнйших действий нужно отсортировать данные по возрастанию (sort_values('amount'))\n",
    "\n",
    "Далее нужно выбрать 5 наименьших максимальных приходов как для мужчин ([max_income_sorted['gender'] == 'M'].head(5)), так и для женщин ([max_income_sorted['gender'] == 'F'].head(5)), и идентифицировать транзакции, которые встречаются в обеих группах. (.merge(smallest_max_income_women, on='tr_description'))\n"
   ]
  },
  {
   "cell_type": "code",
   "execution_count": 12,
   "metadata": {
    "ExecuteTime": {
     "end_time": "2020-04-23T10:36:36.494729Z",
     "start_time": "2020-04-23T10:36:36.492051Z"
    },
    "scrolled": false
   },
   "outputs": [
    {
     "name": "stdout",
     "output_type": "stream",
     "text": [
      "Series([], Name: tr_description, dtype: object)\n"
     ]
    }
   ],
   "source": [
    "### Type your code here\n",
    "# Отфильтровать транзакции с положительными суммами\n",
    "positive_transactions = merged_data[merged_data['amount'] > 0]\n",
    "\n",
    "# Сгруппировать данные по полу и типу транзакции и рассчитать максимальный приход\n",
    "max_income = positive_transactions.groupby(['gender', 'tr_description'])['amount'].max().reset_index()\n",
    "\n",
    "# Отсортировать данные по максимальному приходу в порядке возрастания\n",
    "max_income_sorted = max_income.sort_values('amount')\n",
    "\n",
    "# Выбрать 5 наименьших максимальных приходов для мужчин и женщин\n",
    "smallest_max_income_men = max_income_sorted[max_income_sorted['gender'] == 'M'].head(5)\n",
    "smallest_max_income_women = max_income_sorted[max_income_sorted['gender'] == 'F'].head(5)\n",
    "\n",
    "# Найти транзакции, которые встречаются в обеих группах\n",
    "common_transactions = smallest_max_income_men.merge(smallest_max_income_women, on='tr_description')\n",
    "\n",
    "# Вывести общие транзакции\n",
    "print(common_transactions['tr_description'])\n"
   ]
  },
  {
   "cell_type": "markdown",
   "metadata": {},
   "source": [
    "#### Task 4:\n",
    "1. Выделите из поля tr_datetime относительный день tr_day (первое число до точного времени). (\\*)\n",
    "2. Отфильтруйте строки таким образом, чтобы оставить только те транзакции, у которых в соответствующий относительный день tr_day количество уникальных MCC кодов при транзакциях было больше 75 (можно воспользоваться функцией nunique())\n",
    "3. Сгруппируйте полученный отфильтрованный датафрейм по MCC коду и полу, после чего, пронализировав результат, выберите верные варианты ответов ниже (\\**): \n",
    "    - 1) gender == 0 - женщины, gender == 1 - мужчины\n",
    "    - 2) gender == 1 - женщины, gender == 0 - мужчины\n",
    "    - 3) Абсолютное значение медианы с типом \"Флористика\" (расходов/приходов) у мужчин выше той же медианы у женщин\n",
    "    - 4) Абсолютное значение медианы женских трат (расходов/приходов) на ценные бумаги выше мужских\n",
    "    - 5) Абсолютное значение медианы женских трат (расходов/приходов) в категории \"Бары, коктейль-бары, дискотеки, ночные клубы и таверны — места продажи алкогольных напитков\" ниже мужских\n",
    "    \n",
    "##### Пояснения:\n",
    "(\\*) Для того, чтобы выделить всё, что стоит до первого пробела, можо использовать строковые методы для датафрейма - .str.split(), например. Либо же реализовывать логику выделения подстроки с помощью метода apply. <br>\n",
    "(\\**) Понять, какой класс к какому типу транзакций (мужские/женские) относится можно, если поизучать типичные для мужчин/женщин категории и сравнить средние/медианы расходов и/или приходов в них."
   ]
  },
  {
   "cell_type": "markdown",
   "metadata": {},
   "source": [
    "Чтобы выделить относительный день из поля tr_datetime, можно использовать методы строковых операций в pandas. (str.split().str[0]) \n",
    "\n",
    "Затем нужно отфильтровать строки, чтобы оставить только те транзакции, у которых количество уникальных MCC кодов больше 75 для соответствующего относительного дня tr_day (groupby('tr_day').filter(lambda x: x['mcc_code'].nunique() > 75)).\n",
    "\n",
    "Далее мы сгруппируем полученный отфильтрованный датафрейм по MCC коду и полу (groupby(['mcc_code', 'gender'])) и проанализируем результаты."
   ]
  },
  {
   "cell_type": "code",
   "execution_count": 18,
   "metadata": {
    "ExecuteTime": {
     "end_time": "2020-04-23T10:38:02.450820Z",
     "start_time": "2020-04-23T10:38:02.448354Z"
    }
   },
   "outputs": [
    {
     "name": "stdout",
     "output_type": "stream",
     "text": [
      "Series([], Name: amount, dtype: float64)\n"
     ]
    }
   ],
   "source": [
    "### Type your code here\n",
    "# Выделение относительного дня из tr_datetime\n",
    "merged_data['tr_day'] = merged_data['tr_datetime'].str.split().str[0]\n",
    "\n",
    "# Фильтрация транзакций по количеству уникальных MCC кодов\n",
    "filtered_data = merged_data.groupby('tr_day').filter(lambda x: x['mcc_code'].nunique() > 75)\n",
    "\n",
    "# Группировка по MCC коду и полу\n",
    "grouped_data = filtered_data.groupby(['mcc_code', 'gender'])\n",
    "\n",
    "# Анализ результатов\n",
    "analysis_results = grouped_data['amount'].median().abs()\n",
    "\n",
    "# Вывод результатов\n",
    "print(analysis_results)"
   ]
  },
  {
   "cell_type": "markdown",
   "metadata": {},
   "source": [
    "#### Task 5:\n",
    "1. Разбейте расходы (отрицательные значения сумм) на 5 бакетов amount_bucket равного объёма (с помощью pd.qcut), разбив все траты на категории 'Very High', 'High', 'Middle', 'Low', 'Very Low'. (\\*)\n",
    "2. Оставшиеся неотрицательные траты отнесите к категории 'Income'.\n",
    "(воспользуйтесь функцией .cat.add_categories('Income') для того, чтобы добавить новую категорию 'Income' к категориям 'Very High', 'High', 'Middle', 'Low', 'Very Low', а затем заполните пустые значения новой категорией).\n",
    "3. Из поля tr_datetime выделите час tr_hour, в который произошла транзакция, как первые 2 цифры до \":\". (\\**)\n",
    "3. После этого постройте сводную таблицу, значениями в которой является пол gender, индексы - tr_hour, столбцы - amount_bucket.\n",
    "4. Отрисуйте полученные результаты, передав их в функцию plot_pivot_table, расположенную ниже.\n",
    "5. Выберите верные ответы на вопросы ниже.\n",
    "\n",
    "#### Вопросы:\n",
    "    - 1) Ночные поступления денег (01-05 часов) в более чем 85% случаев являются мужскими.\n",
    "    - 2) Посмотрев на долю мужчин в поступлениях средств (Income), можно сделать вывод, что количество поступлений средств женщинам в целом больше, чем мужчинам.\n",
    "    - 3) Самые низкие траты в 3 часа ночи осуществляются в более 70% случаев женщинами.\n",
    "    - 4) Существуют особые часы в мелких тратах, когда женщины тратят намного больше мужчин (>80%)\n",
    "    - 5) Посмотрев на долю мужчин в максимальных тратах средств (Very High), можно сделать вывод, что количество высоких трат в каждый возможный час мужчин больше, чем у женщин.\n",
    "\n",
    "##### Пояснения:\n",
    "(\\*) Обратите внимание, что в категории Very High Должны оказаться максимальные по модулю отрицательные транзакции. <br>\n",
    "(\\**) Например, для строки \"0 10:23:26\" час будет равен 10, а для строки \"6 07:08:31\"- 07. Можно воспользоваться функциями str.split() или str.find() и \n",
    "функцией .apply(lambda x: x[])"
   ]
  },
  {
   "cell_type": "code",
   "execution_count": 20,
   "metadata": {},
   "outputs": [],
   "source": [
    "def plot_pivot_table(pivot_table):\n",
    "    plt.figure(figsize=(9, 11))\n",
    "    sns.heatmap(pivot_table, cmap=\"YlGnBu\", annot=True, \n",
    "                fmt='.3g', annot_kws={\"size\": 14, \"fontsize\": 14})\n",
    "    plt.xticks(fontsize=15)\n",
    "    plt.yticks(rotation=0, fontsize=15)\n",
    "    plt.xlabel('Bucket', size=18)\n",
    "    plt.ylabel('Hour', fontsize=18)\n",
    "    plt.title('Gender analysis per bucket and hour', fontsize=20)\n",
    "    plt.show()"
   ]
  },
  {
   "cell_type": "code",
   "execution_count": 22,
   "metadata": {
    "ExecuteTime": {
     "end_time": "2020-04-23T10:39:36.365220Z",
     "start_time": "2020-04-23T10:39:36.362849Z"
    },
    "scrolled": false
   },
   "outputs": [
    {
     "data": {
      "image/png": "[encoded data removed]",
      "text/plain": [
       "<Figure size 900x1100 with 2 Axes>"
      ]
     },
     "metadata": {},
     "output_type": "display_data"
    }
   ],
   "source": [
    "# Type your code here\n",
    "import pandas as pd\n",
    "import seaborn as sns\n",
    "import matplotlib.pyplot as plt\n",
    "\n",
    "# Разбиение расходов на 5 бакетов amount_bucket\n",
    "merged_data['amount_bucket'] = pd.qcut(merged_data.loc[merged_data['amount'] < 0, 'amount'], q=5, labels=['Very Low', 'Low', 'Middle', 'High', 'Very High'])\n",
    "\n",
    "# Добавление новой категории 'Income' и заполнение пустых значений\n",
    "merged_data['amount_bucket'] = merged_data['amount_bucket'].cat.add_categories('Income').fillna('Income')\n",
    "\n",
    "# Выделение часа транзакции из tr_datetime\n",
    "merged_data['tr_hour'] = merged_data['tr_datetime'].str.split().str[1].str[:2]\n",
    "\n",
    "# Построение сводной таблицы\n",
    "pivot_table = merged_data.pivot_table(index='tr_hour', columns='amount_bucket', values='gender', aggfunc='count')\n",
    "\n",
    "# Функция для отрисовки сводной таблицы\n",
    "def plot_pivot_table(pivot_table):\n",
    "    plt.figure(figsize=(9, 11))\n",
    "    sns.heatmap(pivot_table, cmap=\"YlGnBu\", annot=True, fmt='.3g', annot_kws={\"size\": 14})\n",
    "    plt.xticks(fontsize=15)\n",
    "    plt.yticks(rotation=0, fontsize=15)\n",
    "    plt.xlabel('Bucket', size=18)\n",
    "    plt.ylabel('Hour', fontsize=18)\n",
    "    plt.title('Gender analysis per bucket and hour', fontsize=20)\n",
    "    plt.show()\n",
    "\n",
    "\n",
    "# Отрисовка сводной таблицы\n",
    "plot_pivot_table(pivot_table)"
   ]
  },
  {
   "cell_type": "markdown",
   "metadata": {},
   "source": [
    "#### Task 6:\n",
    "1. Измените тип поля tr_day на int.\n",
    "2. Выберите из transactions все MCC коды, которые встретились в выборке более чем 60000 раз.\n",
    "3. Сгруппируйте отфильтрованный датафрейм по дню и MCC-коду, получая средние значения суммы amount.  \n",
    "4. Далее отрисуйте зависимость средних сумм (может пригодится метод unstack()) по каждому из MCC-кодов по дням.\n",
    "5. Выберите верные ответы на вопросы ниже.\n",
    "\n",
    "#### Вопросы:\n",
    "    - 1) 2 из полученных MCC-кодов связаны с финансовыми институтами\n",
    "    - 2) 2 MCC кода, связанные со снятием наличности имеют в целом разные знаки (в одном случае почти везде - траты, в другом - пополнения)\n",
    "    - 3) Бакалейные магазины обладают максимальными средними тратами среди выбранных MCC-кодов\n",
    "    - 4) Денежные переводы имеют как минимум 3 явных минимума средних\n",
    "    - 5) Категория \"Звонки с использованием телефонов, считывающих магнитную ленту\" имеет визуально очень большую дисперсию. "
   ]
  },
  {
   "cell_type": "code",
   "execution_count": 9,
   "metadata": {
    "ExecuteTime": {
     "end_time": "2020-04-23T10:40:09.383871Z",
     "start_time": "2020-04-23T10:40:09.381395Z"
    },
    "scrolled": true
   },
   "outputs": [],
   "source": [
    "# Type your code here\n"
   ]
  }
 ],
 "metadata": {
  "hide_input": false,
  "kernelspec": {
   "display_name": "Python 3 (ipykernel)",
   "language": "python",
   "name": "python3"
  },
  "language_info": {
   "codemirror_mode": {
    "name": "ipython",
    "version": 3
   },
   "file_extension": ".py",
   "mimetype": "text/x-python",
   "name": "python",
   "nbconvert_exporter": "python",
   "pygments_lexer": "ipython3",
   "version": "3.11.5"
  },
  "toc": {
   "base_numbering": 1,
   "nav_menu": {},
   "number_sections": true,
   "sideBar": true,
   "skip_h1_title": false,
   "title_cell": "Table of Contents",
   "title_sidebar": "Contents",
   "toc_cell": true,
   "toc_position": {},
   "toc_section_display": true,
   "toc_window_display": false
  },
  "varInspector": {
   "cols": {
    "lenName": 16,
    "lenType": 16,
    "lenVar": 40
   },
   "kernels_config": {
    "python": {
     "delete_cmd_postfix": "",
     "delete_cmd_prefix": "del ",
     "library": "var_list.py",
     "varRefreshCmd": "print(var_dic_list())"
    },
    "r": {
     "delete_cmd_postfix": ") ",
     "delete_cmd_prefix": "rm(",
     "library": "var_list.r",
     "varRefreshCmd": "cat(var_dic_list()) "
    }
   },
   "types_to_exclude": [
    "module",
    "function",
    "builtin_function_or_method",
    "instance",
    "_Feature"
   ],
   "window_display": false
  }
 },
 "nbformat": 4,
 "nbformat_minor": 2
}
