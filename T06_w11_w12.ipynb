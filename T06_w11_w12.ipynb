{
 "cells": [
  {
   "cell_type": "markdown",
   "metadata": {
    "toc": true
   },
   "source": [
    "<h1>Table of Contents<span class=\"tocSkip\"></span></h1>\n",
    "<div class=\"toc\"><ul class=\"toc-item\"><li><span><a href=\"#Обработка-и-анализ-данных-в-Numpy-массивах\" data-toc-modified-id=\"Обработка-и-анализ-данных-в-Numpy-массивах-1\"><span class=\"toc-item-num\">1&nbsp;&nbsp;</span>Обработка и анализ данных в Numpy-массивах</a></span></li></ul></div>"
   ]
  },
  {
   "cell_type": "markdown",
   "metadata": {},
   "source": [
    "\n",
    "\n",
    "\n",
    "# Обработка и анализ данных в Numpy-массивах"
   ]
  },
  {
   "cell_type": "markdown",
   "metadata": {},
   "source": [
    "<p style=\"font-size:125%; color:#119988; background-color:#EEE\">Задание 1</p>\n",
    "\n",
    "Дано: списки `a,b=[1,1,1],[3,3,3]`\n",
    "\n",
    "Создать одномерные массивы A и B из списков а и b.\n",
    "\n",
    "Вычислить выражение $-((B-А)*(B/2))$"
   ]
  },
  {
   "cell_type": "code",
   "execution_count": 1,
   "metadata": {},
   "outputs": [],
   "source": [
    "import numpy as np"
   ]
  },
  {
   "cell_type": "code",
   "execution_count": 2,
   "metadata": {},
   "outputs": [
    {
     "name": "stdout",
     "output_type": "stream",
     "text": [
      "Операция 1 = [2 2 2]\n",
      "Операция 2 = [1.5 1.5 1.5]\n",
      "Операция 3 = [1.5 1.5 1.5]\n",
      "Операция 4 = [3. 3. 3.]\n",
      "Ответ: -9.0\n"
     ]
    }
   ],
   "source": [
    "#1 \n",
    "a = [1,1,1]\n",
    "b = [3,3,3]\n",
    "A = np.array(a)\n",
    "B = np.array(b)\n",
    "\n",
    "x1 = np.subtract(B,A)\n",
    "print(\"Операция 1 =\",x1)\n",
    "x2 = np.divide(B,2)\n",
    "print(\"Операция 2 =\",x2)\n",
    "x3 = np.transpose(x2)\n",
    "print(\"Операция 3 =\",x3)\n",
    "x4 = np.multiply(x1,x3)\n",
    "print(\"Операция 4 =\",x4)\n",
    "\n",
    "answer = x4[0]+x4[1]+x4[2]\n",
    "\n",
    "print(\"Ответ:\",-answer)"
   ]
  },
  {
   "cell_type": "markdown",
   "metadata": {},
   "source": [
    "<p style=\"font-size:125%; color:#119988; background-color:#EEE\">Задание 2</p>\n",
    "\n",
    "Используя как можно меньше операций в исходном массиве \"шахматная доска\" np.zeros((8,8)), добиться расстановки кодов \"шахматных фигур\".\n",
    "\n",
    "Ожидаемый результат:\n",
    "```\n",
    "[[-4., -3., -2., -6., -5., -2., -3., -4.],\n",
    " [-1., -1., -1., -1., -1., -1., -1., -1.],\n",
    " [0., 0., 0., 0., 0., 0., 0., 0.],\n",
    " [0., 0., 0., 0., 0., 0., 0., 0.],\n",
    " [0., 0., 0., 0., 0., 0., 0., 0.],\n",
    " [0., 0., 0., 0., 0., 0., 0., 0.],\n",
    " [1., 1., 1., 1., 1., 1., 1., 1.],\n",
    " [4., 3., 2., 6., 5., 2., 3., 4.]]\n",
    " ```"
   ]
  },
  {
   "cell_type": "code",
   "execution_count": 3,
   "metadata": {},
   "outputs": [
    {
     "name": "stdout",
     "output_type": "stream",
     "text": [
      "[[-4. -3. -2. -6. -5. -2. -3. -4.]\n",
      " [-1. -1. -1. -1. -1. -1. -1. -1.]\n",
      " [ 0.  0.  0.  0.  0.  0.  0.  0.]\n",
      " [ 0.  0.  0.  0.  0.  0.  0.  0.]\n",
      " [ 0.  0.  0.  0.  0.  0.  0.  0.]\n",
      " [ 0.  0.  0.  0.  0.  0.  0.  0.]\n",
      " [ 1.  1.  1.  1.  1.  1.  1.  1.]\n",
      " [ 4.  3.  2.  6.  5.  2.  3.  4.]]\n"
     ]
    }
   ],
   "source": [
    "#2. Ваш код здесь\n",
    "\n",
    "A = np.zeros((8,8))\n",
    "\n",
    "A[7] = [4, 3, 2, 6, 5, 2, 3, 4]\n",
    "A[0] = -A[7]\n",
    "A[6] = [1, 1, 1, 1, 1, 1, 1, 1]\n",
    "A[1] = -A[6]\n",
    "\n",
    "print(A)"
   ]
  },
  {
   "cell_type": "markdown",
   "metadata": {},
   "source": [
    "<p style=\"font-size:125%; color:#119988; background-color:#EEE\">Задание 3</p>\n",
    "\n",
    "Средствами NumPy рассчитать произведения четных чисел от 2 до 20 на ближайшие к ним бОльшие нечетные числа"
   ]
  },
  {
   "cell_type": "code",
   "execution_count": 4,
   "metadata": {},
   "outputs": [
    {
     "name": "stdout",
     "output_type": "stream",
     "text": [
      "[  6  20  42  72 110 156 210 272 342 420]\n"
     ]
    }
   ],
   "source": [
    "# 3. Ваш код здесь\n",
    "Mas = np.arange(2, 21, 2)  # Четные числа от 2 до 20\n",
    "NMas = Mas + 1      # Ближайшие к ним более большие нечетные числа\n",
    "\n",
    "result = Mas * NMas\n",
    "print(result)"
   ]
  },
  {
   "cell_type": "markdown",
   "metadata": {},
   "source": [
    "<p style=\"font-size:125%; color:#119988; background-color:#EEE\">Задание 4</p>\n",
    "\n",
    "Сгенерировать двумерный массив *arr* размерности (4, 7), состоящий из случайных действительных чисел, равномерно распределенных в дипазоне от 0 до 20. Нормализовать значения массива так, что после нормализации максимальный элемент масива будет равен 1.0, минимальный 0.0. Значения округлить (с помощью `np.round()`) до четырех десятичных знаков."
   ]
  },
  {
   "cell_type": "code",
   "execution_count": 20,
   "metadata": {},
   "outputs": [
    {
     "name": "stdout",
     "output_type": "stream",
     "text": [
      "До нормализации:\n",
      "\n",
      " [[13.79028147 16.94003094  7.79077071  1.10759539 12.38942627 11.58101369\n",
      "   6.34615119]\n",
      " [ 6.65426304 14.34632239  5.86878273 12.08562782 10.56174605  5.97715861\n",
      "   0.9459266 ]\n",
      " [ 4.50239008 18.0839983  19.45294793 16.33491426 13.45011623 14.12599855\n",
      "   2.37228229]\n",
      " [ 1.11225705  2.28885841  2.77582581 12.00053766  8.51734624  7.21516331\n",
      "  12.66263618]]\n",
      "\n",
      "После нормализации:\n",
      "\n",
      " [[0.694  0.8642 0.3699 0.0087 0.6183 0.5747 0.2918]\n",
      " [0.3084 0.7241 0.266  0.6019 0.5196 0.2719 0.    ]\n",
      " [0.1922 0.926  1.     0.8315 0.6756 0.7122 0.0771]\n",
      " [0.009  0.0726 0.0989 0.5973 0.4091 0.3387 0.6331]]\n"
     ]
    }
   ],
   "source": [
    "# 4. Ваш код здесь\n",
    "\n",
    "arr = np.random.uniform(low=0.0, high=20.0, size=(4, 7))\n",
    "\n",
    "print(\"До нормализации:\\n\\n\",arr)\n",
    "\n",
    "arr_normalized = (arr - np.min(arr)) / (np.max(arr) - np.min(arr))\n",
    "\n",
    "arr_normalized_rounded = np.round(arr_normalized, decimals=4)\n",
    "\n",
    "print(\"\\nПосле нормализации:\\n\\n\",arr_normalized_rounded)\n"
   ]
  },
  {
   "cell_type": "markdown",
   "metadata": {},
   "source": [
    "<p style=\"font-size:125%; color:#119988; background-color:#EEE\">Задание 5</p>\n",
    "\n",
    "5. Имеется массив my_array\n",
    "```\n",
    "my_array = np.array([[1,2,3,4,5],\n",
    "                [6,7,8,9,10],\n",
    "                [11,12,13,14,15],\n",
    "                [16,17,18,19,20],\n",
    "                [21,22,23,24,25]])\n",
    "```\n",
    "Напишите код, с помощью которого можно извлечь из него центральный фрагмент размером 3 х 3, с числами 7, 8, 9, 12, 13, 14, 17, 18, 19."
   ]
  },
  {
   "cell_type": "code",
   "execution_count": 6,
   "metadata": {},
   "outputs": [
    {
     "name": "stdout",
     "output_type": "stream",
     "text": [
      "[[ 7.  8.  9.]\n",
      " [12. 13. 14.]\n",
      " [17. 18. 19.]]\n"
     ]
    }
   ],
   "source": [
    "# 5. Ваш код здесь\n",
    "\n",
    "my_array = np.array([[1,2,3,4,5],\n",
    "             [6,7,8,9,10],\n",
    "             [11,12,13,14,15],\n",
    "             [16,17,18,19,20],\n",
    "             [21,22,23,24,25]])\n",
    "\n",
    "final_array = np.zeros((3,3))\n",
    "\n",
    "i = 1\n",
    "i_arr = 0\n",
    "\n",
    "while i <= 3:\n",
    "    j = 1\n",
    "    j_arr = 0\n",
    "    while j <=3:\n",
    "        final_array[i_arr][j_arr] = my_array[i][j]\n",
    "        j += 1\n",
    "        j_arr += 1\n",
    "    i += 1\n",
    "    i_arr += 1\n",
    "    \n",
    "print(final_array)"
   ]
  },
  {
   "cell_type": "markdown",
   "metadata": {},
   "source": [
    "<p style=\"font-size:125%; color:#119988; background-color:#EEE\">Задание 6</p>\n",
    "\n",
    "Создайте массив *my_sin*, состоящий из синусов элементов массива *my_array*.\n",
    "Посчитайте, чему равна сумма элементов полученного массива. Ответ округлите до\n",
    "трёх цифр после запятой."
   ]
  },
  {
   "cell_type": "code",
   "execution_count": 7,
   "metadata": {},
   "outputs": [
    {
     "name": "stdout",
     "output_type": "stream",
     "text": [
      "Массив my_sin:\n",
      "[[ 0.841  0.909  0.141 -0.757 -0.959]\n",
      " [-0.279  0.657  0.989  0.412 -0.544]\n",
      " [-1.    -0.537  0.42   0.991  0.65 ]\n",
      " [-0.288 -0.961 -0.751  0.15   0.913]\n",
      " [ 0.837 -0.009 -0.846 -0.906 -0.132]]\n",
      "\n",
      "Сумма элементов массива: -0.059\n",
      "\n"
     ]
    }
   ],
   "source": [
    "# 6. Ваш код здесь\n",
    "\n",
    "my_sin = np.sin(my_array)\n",
    "my_sin_rounded = np.round(my_sin, decimals=3)\n",
    "\n",
    "summ = 0\n",
    "summ2 = 0\n",
    "\n",
    "for elem in my_sin_rounded:\n",
    "    summ += elem\n",
    "for elem in summ:\n",
    "    summ2 += elem\n",
    "\n",
    "print(f\"Массив my_sin:\\n{my_sin_rounded}\\n\")\n",
    "print(f\"Сумма элементов массива: {round(summ2,3)}\\n\")"
   ]
  },
  {
   "cell_type": "markdown",
   "metadata": {},
   "source": [
    "<p style=\"font-size:125%; color:#119988; background-color:#EEE\">Задание 7</p>\n",
    "\n",
    "Создать матрицу из 20 случайных целых чисел от 0 до 100. Получить второе сверху значение в матрице. Определить индекс этого значения."
   ]
  },
  {
   "cell_type": "code",
   "execution_count": 21,
   "metadata": {},
   "outputs": [
    {
     "name": "stdout",
     "output_type": "stream",
     "text": [
      "[[33.2 ]\n",
      " [62.89]\n",
      " [85.84]\n",
      " [30.09]\n",
      " [71.39]\n",
      " [81.64]\n",
      " [31.04]\n",
      " [37.61]\n",
      " [87.81]\n",
      " [65.87]\n",
      " [81.2 ]\n",
      " [24.5 ]\n",
      " [70.82]\n",
      " [93.62]\n",
      " [56.97]\n",
      " [22.01]\n",
      " [72.  ]\n",
      " [93.87]\n",
      " [18.33]\n",
      " [10.49]]\n",
      "Второк сверху значение: 93.61660035040119\n",
      "Индекс второго сверху значения: (array([13]), array([0]))\n"
     ]
    }
   ],
   "source": [
    "# 7. Ваш код здесь\n",
    "\n",
    "my_matrix =  np.random.uniform(low=0.0, high=100.0, size=(20, 1))\n",
    "print(np.round(my_matrix, decimals = 2))\n",
    "\n",
    "sorted_matrix = np.sort(my_matrix, axis=None)[::-1]\n",
    "second_max_value = sorted_matrix[1]\n",
    "\n",
    "ind = np.where(my_matrix == second_max_value)\n",
    "\n",
    "print(\"Второе сверху значение:\", second_max_value)\n",
    "print(\"Индекс второго сверху значения:\", ind)"
   ]
  },
  {
   "cell_type": "markdown",
   "metadata": {},
   "source": [
    "<p style=\"font-size:125%; color:#119988; background-color:#EEE\">Задание 8</p>\n",
    "\n",
    "Задать два двухмерных массива *ar1* и *ar2* размерности (4, 7), состоящих из случайных целых чисел в пределах от 0 до 10. Построить двухмерный массив размерности (4, 7), каждый элемент которого представляет собой максимум (минимум, среднее) из двух значений, находящихся на аналогичной позиции в массивах *ar1*, *ar2*."
   ]
  },
  {
   "cell_type": "code",
   "execution_count": 9,
   "metadata": {},
   "outputs": [
    {
     "name": "stdout",
     "output_type": "stream",
     "text": [
      "ar1:\n",
      " [[4.67 5.34 5.15 7.84 6.96 7.01 9.36]\n",
      " [7.29 4.35 5.36 5.84 0.02 1.12 3.99]\n",
      " [3.24 3.91 9.79 3.64 4.29 4.67 8.97]\n",
      " [9.74 5.21 9.92 1.34 6.79 3.61 5.62]]\n",
      "\n",
      "ar2:\n",
      " [[0.74 8.51 0.1  0.53 4.09 1.75 7.9 ]\n",
      " [1.81 4.19 0.97 1.9  8.84 3.65 0.74]\n",
      " [4.7  7.7  5.78 8.   2.71 4.92 2.98]\n",
      " [5.1  8.43 8.96 8.83 7.68 3.16 0.79]]\n",
      "\n",
      "Введите номер операции для заполнения массива (1 - максимум, 2 - минимум, 3 - среднее): 3\n",
      "\n",
      "ar3: [[2.7  6.93 2.62 4.18 5.53 4.38 8.63]\n",
      " [4.55 4.27 3.17 3.87 4.43 2.39 2.36]\n",
      " [3.97 5.81 7.79 5.82 3.5  4.79 5.98]\n",
      " [7.42 6.82 9.44 5.08 7.23 3.38 3.2 ]]\n"
     ]
    }
   ],
   "source": [
    "# 8. Ваш код здесь\n",
    "ar1 = np.random.uniform(low=0, high=10, size=(4, 7))\n",
    "ar2 = np.random.uniform(low=0, high=10, size=(4, 7))\n",
    "\n",
    "print(\"ar1:\\n\",np.round(ar1,decimals = 2))\n",
    "print(\"\\nar2:\\n\",np.round(ar2,decimals = 2))\n",
    "\n",
    "ar3 = np.zeros((4,7))\n",
    "\n",
    "oper = input(\"\\nВведите номер операции для заполнения массива (1 - максимум, 2 - минимум, 3 - среднее): \")\n",
    "\n",
    "if oper == \"1\":\n",
    "    i = 0\n",
    "    while i < 4:\n",
    "        j = 0\n",
    "        while j < 7:\n",
    "            ar3[i][j] = max(ar1[i][j],ar2[i][j])\n",
    "            j += 1\n",
    "        i +=1\n",
    "elif oper == \"2\":\n",
    "    i = 0\n",
    "    while i < 4:\n",
    "        j = 0\n",
    "        while j < 7:\n",
    "            ar3[i][j] = min(ar1[i][j],ar2[i][j])\n",
    "            j += 1\n",
    "        i +=1\n",
    "elif oper == \"3\":\n",
    "    i = 0\n",
    "    while i < 4:\n",
    "        j = 0\n",
    "        while j < 7:\n",
    "            ar3[i][j] = np.add(ar1[i][j],ar2[i][j])/2\n",
    "            j += 1\n",
    "        i +=1\n",
    "print(\"\\nar3:\", np.round(ar3,decimals = 2))"
   ]
  },
  {
   "cell_type": "code",
   "execution_count": 10,
   "metadata": {},
   "outputs": [
    {
     "name": "stdout",
     "output_type": "stream",
     "text": [
      "ar1:\n",
      " [[0.63 4.64 3.42 7.54 7.03 7.61 1.62]\n",
      " [9.41 0.94 5.62 0.78 0.87 9.87 3.46]\n",
      " [2.8  8.34 8.64 3.26 3.61 0.9  6.74]\n",
      " [3.67 7.11 6.76 4.76 0.59 8.   2.21]]\n",
      "\n",
      "ar2:\n",
      " [[4.8  9.57 7.4  2.04 2.67 4.34 9.7 ]\n",
      " [7.94 9.97 0.69 5.18 2.18 1.39 1.9 ]\n",
      " [2.41 5.67 7.7  0.51 9.61 2.09 5.21]\n",
      " [6.46 3.16 2.97 7.11 9.85 5.64 8.1 ]]\n",
      "\n",
      "Введите номер операции для заполнения массива (1 - максимум, 2 - минимум, 3 - среднее): 3\n",
      "\n",
      "ar3: [[2.71 7.1  5.41 4.79 4.85 5.98 5.66]\n",
      " [8.68 5.45 3.16 2.98 1.52 5.63 2.68]\n",
      " [2.6  7.   8.17 1.89 6.61 1.5  5.98]\n",
      " [5.07 5.14 4.86 5.94 5.22 6.82 5.16]]\n"
     ]
    }
   ],
   "source": [
    "# 8. Ваш код здесь\n",
    "\n",
    "def CreateMatrix(array1, array2, operator):\n",
    "    result = np.zeros((4,7))\n",
    "    if operator == \"1\":\n",
    "        result = max(array1,array2)\n",
    "    elif operator == \"2\":\n",
    "        result = min(array1,array2)\n",
    "    elif operator == \"3\":\n",
    "        result = np.add(array1,array2)/2\n",
    "    return result\n",
    "    \n",
    "\n",
    "\n",
    "ar1 = np.random.uniform(low=0, high=10, size=(4, 7))\n",
    "ar2 = np.random.uniform(low=0, high=10, size=(4, 7))\n",
    "\n",
    "print(\"ar1:\\n\",np.round(ar1,decimals = 2))\n",
    "print(\"\\nar2:\\n\",np.round(ar2,decimals = 2))\n",
    "\n",
    "ar3 = np.zeros((4,7))\n",
    "\n",
    "oper = input(\"\\nВведите номер операции для заполнения массива (1 - максимум, 2 - минимум, 3 - среднее): \")\n",
    "\n",
    "\n",
    "i = 0\n",
    "while i < 4:\n",
    "    j = 0\n",
    "    while j < 7:\n",
    "        ar3[i][j] = CreateMatrix(ar1[i][j],ar2[i][j],oper)\n",
    "        j += 1\n",
    "    i +=1\n",
    "\n",
    "print(\"\\nar3:\", np.round(ar3,decimals = 2))"
   ]
  },
  {
   "cell_type": "markdown",
   "metadata": {},
   "source": [
    "<p style=\"font-size:125%; color:#119988; background-color:#EEE\">Задание 9</p>\n",
    "\n",
    "Имеется массив *great_array*\n",
    "```\n",
    "first = [x**(1/2) for x in range(100)]\n",
    "second = [x**(1/3) for x in range(100, 200)]\n",
    "third = [x/y for x in range(200,300,2) for y in [3,5]]\n",
    "great_array = np.array([first, second, third]).T\n",
    "```\n",
    "Чему равна сумма элементов массива great_array, значение которых больше 50?"
   ]
  },
  {
   "cell_type": "code",
   "execution_count": 11,
   "metadata": {},
   "outputs": [
    {
     "name": "stdout",
     "output_type": "stream",
     "text": [
      "5470.0\n"
     ]
    }
   ],
   "source": [
    "#9 Ваш код здесь\n",
    "\n",
    "first = [x**(1/2) for x in range(100)]\n",
    "second = [x**(1/3) for x in range(100, 200)]\n",
    "third = [x/y for x in range(200,300,2) for y in [3,5]]\n",
    "great_array = np.array([first, second, third]).T\n",
    "\n",
    "#print(great_array)\n",
    "\n",
    "sum_greater_than_50 = np.sum(great_array[great_array > 50])\n",
    "print(sum_greater_than_50)"
   ]
  },
  {
   "cell_type": "markdown",
   "metadata": {},
   "source": [
    "- great_array > 50 создает булев массив той же формы, что и great_array, где элементы, удовлетворяющие условию больше 50, будут равны True, а остальные элементы будут равны False.\n",
    "- great_array[great_array > 50] использует этот булев массив в качестве маски для выбора элементов из great_array, которые удовлетворяют условию больше 50. Таким образом, мы получим одномерный массив только из элементов, которые больше 50.\n",
    "- np.sum(...) вычисляет сумму всех элементов этого одномерного массива. "
   ]
  },
  {
   "cell_type": "markdown",
   "metadata": {},
   "source": [
    "<p style=\"font-size:125%; color:#119988; background-color:#EEE\">Задание 10</p>\n",
    "\n",
    "Переведите массив *great_array* в одномерную форму. Какое значение в получившемся массиве имеет элемент с индексом 150?"
   ]
  },
  {
   "cell_type": "code",
   "execution_count": 12,
   "metadata": {},
   "outputs": [
    {
     "name": "stdout",
     "output_type": "stream",
     "text": [
      "Элемент с индексом 150 равен 7.0710678118654755\n"
     ]
    }
   ],
   "source": [
    "# 10. Ваш код здесь\n",
    "\n",
    "reshape_array = great_array.reshape(1,-1)\n",
    "#print(reshape_array)\n",
    "\n",
    "print(\"Элемент с индексом 150 равен\", reshape_array[0][150])"
   ]
  },
  {
   "cell_type": "markdown",
   "metadata": {},
   "source": [
    "<p style=\"font-size:125%; color:#119988; background-color:#EEE\">Задание 11</p>\n",
    "\n",
    "Получить индексы, для которых элементы массивов A и B совпадают.\n",
    "```\n",
    "A = np.array([1,2,3,2,3,4,3,4,5,6])\n",
    "B = np.array([7,2,10,2,7,4,9,4,9,8])\n",
    "```\n",
    "Ожидается результат:\n",
    "\n",
    "```\n",
    "array([1, 3, 5, 7])\n",
    "```"
   ]
  },
  {
   "cell_type": "code",
   "execution_count": 13,
   "metadata": {},
   "outputs": [
    {
     "name": "stdout",
     "output_type": "stream",
     "text": [
      "[1 3 5 7]\n"
     ]
    }
   ],
   "source": [
    "# 11.\n",
    "\n",
    "A = np.array([1,2,3,2,3,4,3,4,5,6])\n",
    "B = np.array([7,2,10,2,7,4,9,4,9,8])\n",
    "\n",
    "# Ваш код здесь\n",
    "\n",
    "C = np.where(A == B)[0]\n",
    "print(C)"
   ]
  },
  {
   "cell_type": "markdown",
   "metadata": {},
   "source": [
    "<p style=\"font-size:125%; color:#119988; background-color:#EEE\">Задание 12</p>\n",
    "\n",
    "Создайте три массива: массив четных чисел от 2 до 20, массив ближайших к числам первого массива бОльших нечётных чисел, массив векторного произведения первого массива на второй. Соедините все массивы в один двумерный массив, расположив исходные массивы в столбцах."
   ]
  },
  {
   "cell_type": "code",
   "execution_count": 15,
   "metadata": {},
   "outputs": [
    {
     "name": "stdout",
     "output_type": "stream",
     "text": [
      "[[  2   3   6]\n",
      " [  4   5  20]\n",
      " [  6   7  42]\n",
      " [  8   9  72]\n",
      " [ 10  11 110]\n",
      " [ 12  13 156]\n",
      " [ 14  15 210]\n",
      " [ 16  17 272]\n",
      " [ 18  19 342]\n",
      " [ 20  21 420]]\n"
     ]
    }
   ],
   "source": [
    "# 12.  Ваш код здесь\n",
    "\n",
    "M1 = np.arange(2, 21, 2)  # Четные числа от 2 до 20\n",
    "M2 = M1 + 1      # Ближайшие к ним более большие нечетные числа\n",
    "\n",
    "M3 = np.multiply(M1,M2)\n",
    "\n",
    "M4 = np.column_stack((M1,M2,M3))\n",
    "\n",
    "print(M4)"
   ]
  }
 ],
 "metadata": {
  "kernelspec": {
   "display_name": "Python 3 (ipykernel)",
   "language": "python",
   "name": "python3"
  },
  "language_info": {
   "codemirror_mode": {
    "name": "ipython",
    "version": 3
   },
   "file_extension": ".py",
   "mimetype": "text/x-python",
   "name": "python",
   "nbconvert_exporter": "python",
   "pygments_lexer": "ipython3",
   "version": "3.11.5"
  },
  "toc": {
   "base_numbering": 1,
   "nav_menu": {},
   "number_sections": true,
   "sideBar": true,
   "skip_h1_title": false,
   "title_cell": "Table of Contents",
   "title_sidebar": "Contents",
   "toc_cell": true,
   "toc_position": {},
   "toc_section_display": true,
   "toc_window_display": false
  },
  "varInspector": {
   "cols": {
    "lenName": 16,
    "lenType": 16,
    "lenVar": 40
   },
   "kernels_config": {
    "python": {
     "delete_cmd_postfix": "",
     "delete_cmd_prefix": "del ",
     "library": "var_list.py",
     "varRefreshCmd": "print(var_dic_list())"
    },
    "r": {
     "delete_cmd_postfix": ") ",
     "delete_cmd_prefix": "rm(",
     "library": "var_list.r",
     "varRefreshCmd": "cat(var_dic_list()) "
    }
   },
   "types_to_exclude": [
    "module",
    "function",
    "builtin_function_or_method",
    "instance",
    "_Feature"
   ],
   "window_display": false
  }
 },
 "nbformat": 4,
 "nbformat_minor": 4
}
