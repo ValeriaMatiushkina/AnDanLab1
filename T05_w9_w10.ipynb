{
 "cells": [
  {
   "cell_type": "markdown",
   "id": "75ba224b",
   "metadata": {
    "toc": true
   },
   "source": [
    "<h1>Table of Contents<span class=\"tocSkip\"></span></h1>\n",
    "<div class=\"toc\"><ul class=\"toc-item\"></ul></div>"
   ]
  },
  {
   "cell_type": "markdown",
   "id": "edbef882",
   "metadata": {},
   "source": [
    "<p style=\"font-size:125%; color:#119988; background-color:#EEE\">Задание 1</p>\n",
    "\n",
    "Создайте словарь *food* продуктов питания, ключами которого являются наименования, а значениями цены. Исходные данные для словаря:\n",
    "```\n",
    "titles=('apples,grape,bananas,watermelons,tomatoes'.split(','))\n",
    "prices=(20,25,15,11,15)\n",
    "```"
   ]
  },
  {
   "cell_type": "markdown",
   "id": "d9a92ce3",
   "metadata": {},
   "source": [
    "Используем функцию dict для создания переменной типа словарь и функцию zip для поэлементной записи в словарь из каждого списка"
   ]
  },
  {
   "cell_type": "code",
   "execution_count": 42,
   "id": "7befff06",
   "metadata": {},
   "outputs": [
    {
     "name": "stdout",
     "output_type": "stream",
     "text": [
      "{'apples': 20, 'grape': 25, 'bananas': 15, 'watermelons': 11, 'tomatoes': 15}\n"
     ]
    }
   ],
   "source": [
    "# 1\n",
    "\n",
    "titles=('apples,grape,bananas,watermelons,tomatoes'.split(','))\n",
    "prices=(20,25,15,11,15)\n",
    "\n",
    "food = dict(zip(titles, prices))\n",
    "print(food)"
   ]
  },
  {
   "cell_type": "markdown",
   "id": "815e7957",
   "metadata": {},
   "source": [
    "<p style=\"font-size:125%; color:#119988; background-color:#EEE\">Задание 2</p>\n",
    "\n",
    "Удалите из словаря *food* арбузы (watermelons) и добавьте дыни (melons) по той же цене."
   ]
  },
  {
   "cell_type": "markdown",
   "id": "4ce1e53b",
   "metadata": {},
   "source": [
    "Используем функцию pop, которая удаляет из словаря элемент, кюч которого указывается в скобках"
   ]
  },
  {
   "cell_type": "code",
   "execution_count": 43,
   "id": "50964e18",
   "metadata": {},
   "outputs": [
    {
     "name": "stdout",
     "output_type": "stream",
     "text": [
      "{'apples': 20, 'grape': 25, 'bananas': 15, 'tomatoes': 15, 'melons': 11}\n"
     ]
    }
   ],
   "source": [
    "# 2\n",
    "\n",
    "food.pop(\"watermelons\")\n",
    "food[\"melons\"] = 11\n",
    "print(food)"
   ]
  },
  {
   "cell_type": "markdown",
   "id": "09da5372",
   "metadata": {},
   "source": [
    "<p style=\"font-size:125%; color:#119988; background-color:#EEE\">Задание 3</p>\n",
    "\n",
    "Все цены снижены на 15%. Обновите словарь продуктов."
   ]
  },
  {
   "cell_type": "markdown",
   "id": "2605b1f3",
   "metadata": {},
   "source": [
    "В цикле выбираются ключ и значение из словаря, пока словарь не закончится. в буферную переменную записывается измененное значение цены и в словаре под соответствующим ключем обновляется значение цены"
   ]
  },
  {
   "cell_type": "code",
   "execution_count": 44,
   "id": "b88d99a1",
   "metadata": {},
   "outputs": [
    {
     "name": "stdout",
     "output_type": "stream",
     "text": [
      "{'apples': 17.0, 'grape': 21.25, 'bananas': 12.75, 'tomatoes': 12.75, 'melons': 9.35}\n"
     ]
    }
   ],
   "source": [
    "# 3\n",
    "\n",
    "for title, price in food.items():\n",
    "    updated_price = price * 0.85\n",
    "    food[title] = updated_price\n",
    "    \n",
    "print(food)"
   ]
  },
  {
   "cell_type": "markdown",
   "id": "ea04b336",
   "metadata": {},
   "source": [
    "<p style=\"font-size:125%; color:#119988; background-color:#EEE\">Задание 4</p>\n",
    "\n",
    "Поменяйте местами цены и названия, пусть ключами словаря станут цены, а значениями - названия. Изменилось ли при этом количество элементов словаря? Если да, то объясните, почему."
   ]
  },
  {
   "cell_type": "markdown",
   "id": "321c0311",
   "metadata": {},
   "source": [
    "В новый словарь заносятся данные из уже существующего. Используется генератор словарей в котором указываем что в качестве ключа для нового словаря будут использоваться значения из словаря food"
   ]
  },
  {
   "cell_type": "code",
   "execution_count": 45,
   "id": "968cf531",
   "metadata": {},
   "outputs": [
    {
     "name": "stdout",
     "output_type": "stream",
     "text": [
      "{17.0: 'apples', 21.25: 'grape', 12.75: 'tomatoes', 9.35: 'melons'}\n"
     ]
    }
   ],
   "source": [
    "# 4\n",
    "\n",
    "swapped_food = {value: key for key, value in food.items()}\n",
    "\n",
    "print(swapped_food)"
   ]
  },
  {
   "cell_type": "markdown",
   "id": "ef49adb3",
   "metadata": {},
   "source": [
    "<p style=\"font-size:125%; color:#119988; background-color:#EEE\">Задание 5</p>\n",
    "\n",
    "Напишите функцию, возвращающую максимальную степень некоторого натурального числа $k$ (например $k=2$), меньшую данного натурального числа $n$. Пусть $k$ и $n$ будут параметрами функции."
   ]
  },
  {
   "cell_type": "markdown",
   "id": "ebe81977",
   "metadata": {},
   "source": [
    "В функции объявляем новую переменную, в нее будет записываться максимальное значение степени. В цикле проверяем когда число k в стемени maximum станет больше второго натурального числа и при достижении этого возвращаем значение степени"
   ]
  },
  {
   "cell_type": "code",
   "execution_count": 46,
   "id": "a56f047a",
   "metadata": {},
   "outputs": [
    {
     "name": "stdout",
     "output_type": "stream",
     "text": [
      "2\n",
      "10\n",
      "Максимальная степень: 3\n"
     ]
    }
   ],
   "source": [
    "# 5\n",
    "\n",
    "def maximum_pov(k,n):\n",
    "    maximum = 0\n",
    "    while k ** maximum < n:\n",
    "        maximum += 1\n",
    "    return maximum - 1\n",
    "\n",
    "k = int(input())\n",
    "n = int(input())\n",
    "\n",
    "print(\"Максимальная степень:\",maximum_pov(k,n))"
   ]
  },
  {
   "cell_type": "markdown",
   "id": "dafc63f5",
   "metadata": {},
   "source": [
    "<p style=\"font-size:125%; color:#119988; background-color:#EEE\">Задание 6</p>\n",
    "\n",
    "Создайте функцию, возвращающую ряд Фибоначчи до определенного натурального числа $n$."
   ]
  },
  {
   "cell_type": "markdown",
   "id": "7a210d12",
   "metadata": {},
   "source": [
    "В функции сначала проверяем действительно ли число натуральное, для этого используем функцию assert, которая и проверяет выполнения условия. В данном случае необходимо проверит только положительно ли значение, так как сама переменная уже имеет тип Integer, то есть целочисленный. \n",
    "\n",
    "Создается пустой список который будет содержать ряд чисел Фибоначчи.\n",
    "\n",
    "Затем функция проверяет, если n больше или равно 1, то добавляет число 0 в список list1 при помощи метода append(). Если n не больше или равно 1, то ничего не происходит.\n",
    "\n",
    "Далее есть цикл while, который будет выполняться до тех пор, пока сумма последних двух чисел в списке list1 меньше или равна n.\n",
    "\n",
    "Внутри цикла каждая итерация состоит из следующих шагов:\n",
    "\n",
    "Получаем сумму последних двух чисел в списке list1 при помощи операции list1[-1]+list1[-2].\n",
    "\n",
    "Если эта сумма меньше или равна n, то добавляем ее в список list1 при помощи метода append().\n",
    "\n",
    "Обновляем значения последних двух чисел в списке list1 так, чтобы новое последнее число стало предыдущим, а новое предыдущее число стало суммой этих двух чисел.\n",
    "\n",
    "После завершения цикла возвращается список list1, содержащий числа Фибоначчи до n. "
   ]
  },
  {
   "cell_type": "code",
   "execution_count": 47,
   "id": "5501cf52",
   "metadata": {},
   "outputs": [
    {
     "name": "stdout",
     "output_type": "stream",
     "text": [
      "Введите натуральное число: 100\n",
      "[0, 1, 1, 2, 3, 5, 8, 13, 21, 34, 55, 89]\n"
     ]
    }
   ],
   "source": [
    "def fib(n):\n",
    "    assert n > 0, \"Число должно быть натуральным\"\n",
    "    \n",
    "    list1 = []\n",
    "    a, b = 0, 1\n",
    "    \n",
    "    list1.append(a)\n",
    "    while b <= n:\n",
    "        list1.append(b)\n",
    "        a, b = b, a + b\n",
    "    \n",
    "    return list1\n",
    "\n",
    "n = int(input(\"Введите натуральное число: \"))\n",
    "print(fib(n))"
   ]
  },
  {
   "cell_type": "markdown",
   "id": "119e660a",
   "metadata": {},
   "source": [
    "<p style=\"font-size:125%; color:#119988; background-color:#EEE\">Задание 7</p>\n",
    "\n",
    "Создайте рекурсивную функцию, возвращающую ряд Фибоначчи до определенного натурального числа $n$."
   ]
  },
  {
   "cell_type": "markdown",
   "id": "fef9fcc7",
   "metadata": {},
   "source": [
    "Функция работает следующим образом:\n",
    "1. Если n <= 0, то возвращается пустой список, так как нечего генерировать.\n",
    "2. Если n == 1, то возвращается список [0], так как первое число в ряде Фибоначчи равно 0.\n",
    "3. Если n == 2, то возвращается список [0, 1], так как первые два числа в ряде Фибоначчи - 0 и 1.\n",
    "4. Если n > 2, то вызывается рекурсивная функция fib_recursive(n-1), которая генерирует список чисел Фибоначчи до (n-1). Затем последнее число этого списка добавляется в список, а результат возвращается.\n",
    "\n",
    "Выводятся только первые n чисел, так как список ограничен с помощью среза [:n]."
   ]
  },
  {
   "cell_type": "code",
   "execution_count": 52,
   "id": "31838c27",
   "metadata": {},
   "outputs": [
    {
     "name": "stdout",
     "output_type": "stream",
     "text": [
      "Введите натуральное число: 5\n",
      "[0, 1, 1, 2, 3]\n"
     ]
    }
   ],
   "source": [
    "# 7\n",
    "\n",
    "def fib_recursive(n):\n",
    "    if n <= 0:\n",
    "        return []\n",
    "    elif n == 1:\n",
    "        return [0]\n",
    "    elif n == 2:\n",
    "        return [0, 1]\n",
    "    else:\n",
    "        fib_list = fib_recursive(n-1)\n",
    "        fib_list.append(fib_list[-1] + fib_list[-2])\n",
    "        return fib_list\n",
    "\n",
    "n = int(input(\"Введите натуральное число: \"))\n",
    "fibonacci_series = fib_recursive(n)\n",
    "print(fibonacci_series[:n])"
   ]
  },
  {
   "cell_type": "markdown",
   "id": "ec8400ea",
   "metadata": {},
   "source": [
    "<p style=\"font-size:125%; color:#119988; background-color:#EEE\">Задание 8</p>\n",
    "\n",
    "Создайте функцию, которая проверяет, является ли число членом ряда Фибоначчи."
   ]
  },
  {
   "cell_type": "markdown",
   "id": "d3097418",
   "metadata": {},
   "source": [
    "Функция генерирует ряд чисел Фибоначчи до тех пор, пока гнерируемое число не будет больше чем проверяемое. Когда это значение достигнуто, числа сравниваются и при совпадении программа сообщает что число является членом ряда, если совпадения нет, значит не является."
   ]
  },
  {
   "cell_type": "code",
   "execution_count": 54,
   "id": "a8715c73",
   "metadata": {},
   "outputs": [
    {
     "name": "stdout",
     "output_type": "stream",
     "text": [
      "Введите число для проверки: 21\n",
      "21 является членом ряда Фибоначчи.\n"
     ]
    }
   ],
   "source": [
    "# 8\n",
    "\n",
    "def is_fibonacci(num):\n",
    "    a, b = 0, 1\n",
    "    while b < num:\n",
    "        a, b = b, a + b\n",
    "    if b == num:\n",
    "        return True\n",
    "    else:\n",
    "        return False\n",
    "\n",
    "num = int(input(\"Введите число для проверки: \"))\n",
    "is_member = is_fibonacci(num)\n",
    "if is_member:\n",
    "    print(f\"{num} является членом ряда Фибоначчи.\")\n",
    "else:\n",
    "    print(f\"{num} не является членом ряда Фибоначчи.\")"
   ]
  },
  {
   "cell_type": "markdown",
   "id": "eed2994e",
   "metadata": {},
   "source": [
    "<p style=\"font-size:125%; color:#119988; background-color:#EEE\">Задание 9</p>\n",
    "\n",
    "Студентка Александра родилась 11 июня 2003 года в 12 часов дня. Рассчитать время в минутах с момента рождения."
   ]
  },
  {
   "cell_type": "markdown",
   "id": "a7e98da5",
   "metadata": {},
   "source": [
    "В коде используется модуль datetime для работы с датой и временем.\n",
    "В переменной birth мы сохраняем данные о рождении (год, месяц, день, час и минута), в переменной current записана текущая дата, также с помощью модуля и встроенной в него функцией now.\n",
    "Далее вычисляется разность во времени и перевод этого значения в секунды с помощью метода total_seconds"
   ]
  },
  {
   "cell_type": "code",
   "execution_count": 56,
   "id": "6d81786f",
   "metadata": {},
   "outputs": [
    {
     "name": "stdout",
     "output_type": "stream",
     "text": [
      "Время с момента рождения: 10718054 минут\n"
     ]
    }
   ],
   "source": [
    "# 9\n",
    "\n",
    "from datetime import datetime\n",
    "\n",
    "birth = datetime(2003, 6, 11, 12, 0)  # Дата и время рождения Александры\n",
    "current = datetime.now()  # Текущая дата и время\n",
    "\n",
    "difference = current - birth  # Вычисляем разницу между текущим временем и временем рождения\n",
    "minutes = int(difference.total_seconds() / 60)  # Конвертируем разницу в минуты\n",
    "\n",
    "print(f\"Время с момента рождения: {minutes} минут\")"
   ]
  }
 ],
 "metadata": {
  "kernelspec": {
   "display_name": "Python 3 (ipykernel)",
   "language": "python",
   "name": "python3"
  },
  "language_info": {
   "codemirror_mode": {
    "name": "ipython",
    "version": 3
   },
   "file_extension": ".py",
   "mimetype": "text/x-python",
   "name": "python",
   "nbconvert_exporter": "python",
   "pygments_lexer": "ipython3",
   "version": "3.11.5"
  },
  "toc": {
   "base_numbering": 1,
   "nav_menu": {},
   "number_sections": true,
   "sideBar": true,
   "skip_h1_title": false,
   "title_cell": "Table of Contents",
   "title_sidebar": "Contents",
   "toc_cell": true,
   "toc_position": {},
   "toc_section_display": true,
   "toc_window_display": false
  },
  "varInspector": {
   "cols": {
    "lenName": 16,
    "lenType": 16,
    "lenVar": 40
   },
   "kernels_config": {
    "python": {
     "delete_cmd_postfix": "",
     "delete_cmd_prefix": "del ",
     "library": "var_list.py",
     "varRefreshCmd": "print(var_dic_list())"
    },
    "r": {
     "delete_cmd_postfix": ") ",
     "delete_cmd_prefix": "rm(",
     "library": "var_list.r",
     "varRefreshCmd": "cat(var_dic_list()) "
    }
   },
   "types_to_exclude": [
    "module",
    "function",
    "builtin_function_or_method",
    "instance",
    "_Feature"
   ],
   "window_display": false
  }
 },
 "nbformat": 4,
 "nbformat_minor": 5
}
